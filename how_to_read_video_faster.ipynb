{
 "cells": [
  {
   "cell_type": "markdown",
   "metadata": {},
   "source": [
    "When we need read video into frame tensors, we often use torchvision.io.read_video. However, I found it is very very slow and cpu intensive. After reading https://pytorch.org/vision/stable/io.html#torchvision.io.VideoReader , it says pytorch has a a high-performance lower-level API (torchvision.io.VideoReader) for more fine-grained control compared to the read_video function.\n",
    "\n",
    "I made a quick benchmark and found that VideoReader is sometimes much faster (about 100 faster) and less cpu intensive.\n",
    "\n",
    "For how to use VideoReader, see https://pytorch.org/vision/stable/generated/torchvision.io.VideoReader.html#torchvision.io.VideoReader"
   ]
  },
  {
   "cell_type": "code",
   "execution_count": 5,
   "metadata": {},
   "outputs": [
    {
     "name": "stdout",
     "output_type": "stream",
     "text": [
      "torchvision.io.VideoReader run time: 0.5526835918426514\n",
      "fps calculated from torchvision.io.VideoReader: 30.491803278688526\n",
      "io.read_video run time: 45.453495502471924\n",
      "info from torchvision.io.read_video:{'video_fps': 30.0, 'audio_fps': 44100}\n",
      "[True, True, True, True, True, True, True, True, True, True, True, True, True, True, True, True, True, True, True, True, True, True, True, True, True, True, True, True, True, True, True, True, True, True, True, True, True, True, True, True, True, True, True, True, True, True, True, True, True, True, True, True, True, True, True, True, True, True, True, True, True, True]\n"
     ]
    }
   ],
   "source": [
    "import torchvision\n",
    "import time\n",
    "import torch\n",
    "\n",
    "video_path = \"train_data/1.mp4\"\n",
    "\n",
    "ts = time.time()\n",
    "reader = torchvision.io.VideoReader(video_path, \"video\")\n",
    "frames = []\n",
    "for frame in reader:\n",
    "    frames.append(frame)\n",
    "te = time.time()\n",
    "print(f\"torchvision.io.VideoReader run time: {te - ts}\")\n",
    "assert(len(frames) > 0)\n",
    "duration = frames[-1]['pts'] - frames[0]['pts']\n",
    "fps = len(frames) / duration\n",
    "print(f\"fps calculated from torchvision.io.VideoReader: {fps}\")\n",
    "\n",
    "ts = time.time()\n",
    "video, audio, info = torchvision.io.read_video(\n",
    "    video_path,\n",
    "    start_pts=0.0,\n",
    "    end_pts=None,\n",
    "    pts_unit=\"sec\",\n",
    "    output_format=\"TCHW\",\n",
    ")\n",
    "te = time.time()\n",
    "print(f\"io.read_video run time: {te - ts}\")\n",
    "print(f\"info from torchvision.io.read_video:{info}\")\n",
    "\n",
    "assert(len(frames) == len(video))\n",
    "\n",
    "print([torch.equal(frames[i]['data'], video[i]) for i in range(len(video))])\n",
    "\n"
   ]
  }
 ],
 "metadata": {
  "kernelspec": {
   "display_name": "qwen2-VL",
   "language": "python",
   "name": "python3"
  },
  "language_info": {
   "codemirror_mode": {
    "name": "ipython",
    "version": 3
   },
   "file_extension": ".py",
   "mimetype": "text/x-python",
   "name": "python",
   "nbconvert_exporter": "python",
   "pygments_lexer": "ipython3",
   "version": "3.10.14"
  }
 },
 "nbformat": 4,
 "nbformat_minor": 2
}
